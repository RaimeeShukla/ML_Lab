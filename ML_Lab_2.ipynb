{
  "nbformat": 4,
  "nbformat_minor": 0,
  "metadata": {
    "colab": {
      "provenance": [],
      "authorship_tag": "ABX9TyOoAHwxueV6S/tmyoB9TnAo",
      "include_colab_link": true
    },
    "kernelspec": {
      "name": "python3",
      "display_name": "Python 3"
    },
    "language_info": {
      "name": "python"
    }
  },
  "cells": [
    {
      "cell_type": "markdown",
      "metadata": {
        "id": "view-in-github",
        "colab_type": "text"
      },
      "source": [
        "<a href=\"https://colab.research.google.com/github/RaimeeShukla/ML_Lab2/blob/main/ML_Lab_2.ipynb\" target=\"_parent\"><img src=\"https://colab.research.google.com/assets/colab-badge.svg\" alt=\"Open In Colab\"/></a>"
      ]
    },
    {
      "cell_type": "markdown",
      "source": [
        "NAME: RAIMEE MADHURI SHUKLA"
      ],
      "metadata": {
        "id": "fOr7610SK-hm"
      }
    },
    {
      "cell_type": "markdown",
      "source": [
        "SECTION: AIE-E"
      ],
      "metadata": {
        "id": "s7_GQjQaM7fu"
      }
    },
    {
      "cell_type": "markdown",
      "source": [
        "REGISTERATION NUMBER: BL.EN.U4AIE23125"
      ],
      "metadata": {
        "id": "PhGmooLtM9yq"
      }
    },
    {
      "cell_type": "markdown",
      "source": [
        "\n",
        "Question 1"
      ],
      "metadata": {
        "id": "3z_cUxiSNB48"
      }
    },
    {
      "cell_type": "code",
      "execution_count": null,
      "metadata": {
        "colab": {
          "base_uri": "https://localhost:8080/",
          "height": 73
        },
        "id": "OxYJYj4WM1b4",
        "outputId": "c76907e1-dfe0-4e98-b987-aacd8150381a"
      },
      "outputs": [
        {
          "output_type": "display_data",
          "data": {
            "text/plain": [
              "<IPython.core.display.HTML object>"
            ],
            "text/html": [
              "\n",
              "     <input type=\"file\" id=\"files-ce813566-7ea9-4718-9c21-942d9b21c52c\" name=\"files[]\" multiple disabled\n",
              "        style=\"border:none\" />\n",
              "     <output id=\"result-ce813566-7ea9-4718-9c21-942d9b21c52c\">\n",
              "      Upload widget is only available when the cell has been executed in the\n",
              "      current browser session. Please rerun this cell to enable.\n",
              "      </output>\n",
              "      <script>// Copyright 2017 Google LLC\n",
              "//\n",
              "// Licensed under the Apache License, Version 2.0 (the \"License\");\n",
              "// you may not use this file except in compliance with the License.\n",
              "// You may obtain a copy of the License at\n",
              "//\n",
              "//      http://www.apache.org/licenses/LICENSE-2.0\n",
              "//\n",
              "// Unless required by applicable law or agreed to in writing, software\n",
              "// distributed under the License is distributed on an \"AS IS\" BASIS,\n",
              "// WITHOUT WARRANTIES OR CONDITIONS OF ANY KIND, either express or implied.\n",
              "// See the License for the specific language governing permissions and\n",
              "// limitations under the License.\n",
              "\n",
              "/**\n",
              " * @fileoverview Helpers for google.colab Python module.\n",
              " */\n",
              "(function(scope) {\n",
              "function span(text, styleAttributes = {}) {\n",
              "  const element = document.createElement('span');\n",
              "  element.textContent = text;\n",
              "  for (const key of Object.keys(styleAttributes)) {\n",
              "    element.style[key] = styleAttributes[key];\n",
              "  }\n",
              "  return element;\n",
              "}\n",
              "\n",
              "// Max number of bytes which will be uploaded at a time.\n",
              "const MAX_PAYLOAD_SIZE = 100 * 1024;\n",
              "\n",
              "function _uploadFiles(inputId, outputId) {\n",
              "  const steps = uploadFilesStep(inputId, outputId);\n",
              "  const outputElement = document.getElementById(outputId);\n",
              "  // Cache steps on the outputElement to make it available for the next call\n",
              "  // to uploadFilesContinue from Python.\n",
              "  outputElement.steps = steps;\n",
              "\n",
              "  return _uploadFilesContinue(outputId);\n",
              "}\n",
              "\n",
              "// This is roughly an async generator (not supported in the browser yet),\n",
              "// where there are multiple asynchronous steps and the Python side is going\n",
              "// to poll for completion of each step.\n",
              "// This uses a Promise to block the python side on completion of each step,\n",
              "// then passes the result of the previous step as the input to the next step.\n",
              "function _uploadFilesContinue(outputId) {\n",
              "  const outputElement = document.getElementById(outputId);\n",
              "  const steps = outputElement.steps;\n",
              "\n",
              "  const next = steps.next(outputElement.lastPromiseValue);\n",
              "  return Promise.resolve(next.value.promise).then((value) => {\n",
              "    // Cache the last promise value to make it available to the next\n",
              "    // step of the generator.\n",
              "    outputElement.lastPromiseValue = value;\n",
              "    return next.value.response;\n",
              "  });\n",
              "}\n",
              "\n",
              "/**\n",
              " * Generator function which is called between each async step of the upload\n",
              " * process.\n",
              " * @param {string} inputId Element ID of the input file picker element.\n",
              " * @param {string} outputId Element ID of the output display.\n",
              " * @return {!Iterable<!Object>} Iterable of next steps.\n",
              " */\n",
              "function* uploadFilesStep(inputId, outputId) {\n",
              "  const inputElement = document.getElementById(inputId);\n",
              "  inputElement.disabled = false;\n",
              "\n",
              "  const outputElement = document.getElementById(outputId);\n",
              "  outputElement.innerHTML = '';\n",
              "\n",
              "  const pickedPromise = new Promise((resolve) => {\n",
              "    inputElement.addEventListener('change', (e) => {\n",
              "      resolve(e.target.files);\n",
              "    });\n",
              "  });\n",
              "\n",
              "  const cancel = document.createElement('button');\n",
              "  inputElement.parentElement.appendChild(cancel);\n",
              "  cancel.textContent = 'Cancel upload';\n",
              "  const cancelPromise = new Promise((resolve) => {\n",
              "    cancel.onclick = () => {\n",
              "      resolve(null);\n",
              "    };\n",
              "  });\n",
              "\n",
              "  // Wait for the user to pick the files.\n",
              "  const files = yield {\n",
              "    promise: Promise.race([pickedPromise, cancelPromise]),\n",
              "    response: {\n",
              "      action: 'starting',\n",
              "    }\n",
              "  };\n",
              "\n",
              "  cancel.remove();\n",
              "\n",
              "  // Disable the input element since further picks are not allowed.\n",
              "  inputElement.disabled = true;\n",
              "\n",
              "  if (!files) {\n",
              "    return {\n",
              "      response: {\n",
              "        action: 'complete',\n",
              "      }\n",
              "    };\n",
              "  }\n",
              "\n",
              "  for (const file of files) {\n",
              "    const li = document.createElement('li');\n",
              "    li.append(span(file.name, {fontWeight: 'bold'}));\n",
              "    li.append(span(\n",
              "        `(${file.type || 'n/a'}) - ${file.size} bytes, ` +\n",
              "        `last modified: ${\n",
              "            file.lastModifiedDate ? file.lastModifiedDate.toLocaleDateString() :\n",
              "                                    'n/a'} - `));\n",
              "    const percent = span('0% done');\n",
              "    li.appendChild(percent);\n",
              "\n",
              "    outputElement.appendChild(li);\n",
              "\n",
              "    const fileDataPromise = new Promise((resolve) => {\n",
              "      const reader = new FileReader();\n",
              "      reader.onload = (e) => {\n",
              "        resolve(e.target.result);\n",
              "      };\n",
              "      reader.readAsArrayBuffer(file);\n",
              "    });\n",
              "    // Wait for the data to be ready.\n",
              "    let fileData = yield {\n",
              "      promise: fileDataPromise,\n",
              "      response: {\n",
              "        action: 'continue',\n",
              "      }\n",
              "    };\n",
              "\n",
              "    // Use a chunked sending to avoid message size limits. See b/62115660.\n",
              "    let position = 0;\n",
              "    do {\n",
              "      const length = Math.min(fileData.byteLength - position, MAX_PAYLOAD_SIZE);\n",
              "      const chunk = new Uint8Array(fileData, position, length);\n",
              "      position += length;\n",
              "\n",
              "      const base64 = btoa(String.fromCharCode.apply(null, chunk));\n",
              "      yield {\n",
              "        response: {\n",
              "          action: 'append',\n",
              "          file: file.name,\n",
              "          data: base64,\n",
              "        },\n",
              "      };\n",
              "\n",
              "      let percentDone = fileData.byteLength === 0 ?\n",
              "          100 :\n",
              "          Math.round((position / fileData.byteLength) * 100);\n",
              "      percent.textContent = `${percentDone}% done`;\n",
              "\n",
              "    } while (position < fileData.byteLength);\n",
              "  }\n",
              "\n",
              "  // All done.\n",
              "  yield {\n",
              "    response: {\n",
              "      action: 'complete',\n",
              "    }\n",
              "  };\n",
              "}\n",
              "\n",
              "scope.google = scope.google || {};\n",
              "scope.google.colab = scope.google.colab || {};\n",
              "scope.google.colab._files = {\n",
              "  _uploadFiles,\n",
              "  _uploadFilesContinue,\n",
              "};\n",
              "})(self);\n",
              "</script> "
            ]
          },
          "metadata": {}
        },
        {
          "output_type": "stream",
          "name": "stdout",
          "text": [
            "Saving Purchase Data.xlsx to Purchase Data (2).xlsx\n"
          ]
        }
      ],
      "source": [
        "from google.colab import files\n",
        "import pandas as pd\n",
        "import numpy as np\n",
        "\n",
        "uploaded=files.upload()\n",
        "file_name=list(uploaded.keys())[0]\n",
        "df=pd.read_excel(file_name)"
      ]
    },
    {
      "cell_type": "code",
      "source": [
        "A=df.iloc[:,1:-1]\n",
        "C=df.iloc[:,-1]\n",
        "A=A.to_numpy()\n",
        "C=C.to_numpy().reshape(-1,1)\n",
        "\n",
        "print(A)\n",
        "print(C)"
      ],
      "metadata": {
        "colab": {
          "base_uri": "https://localhost:8080/"
        },
        "id": "EAe-s7OgRPPm",
        "outputId": "a68ad7ad-adbb-4fb0-b9bc-df464cae79e2"
      },
      "execution_count": null,
      "outputs": [
        {
          "output_type": "stream",
          "name": "stdout",
          "text": [
            "[[20  6  2]\n",
            " [16  3  6]\n",
            " [27  6  2]\n",
            " [19  1  2]\n",
            " [24  4  2]\n",
            " [22  1  5]\n",
            " [15  4  2]\n",
            " [18  4  2]\n",
            " [21  1  4]\n",
            " [16  2  4]]\n",
            "[[386]\n",
            " [289]\n",
            " [393]\n",
            " [110]\n",
            " [280]\n",
            " [167]\n",
            " [271]\n",
            " [274]\n",
            " [148]\n",
            " [198]]\n"
          ]
        }
      ]
    },
    {
      "cell_type": "code",
      "source": [
        "#Part 1\n",
        "print(\"Dimensionlity of vector space: \",A.shape[1])"
      ],
      "metadata": {
        "colab": {
          "base_uri": "https://localhost:8080/"
        },
        "id": "XsK9FxOBMXMO",
        "outputId": "19480ef7-7a36-4b26-ecc0-dcbfd7c965e8"
      },
      "execution_count": null,
      "outputs": [
        {
          "output_type": "stream",
          "name": "stdout",
          "text": [
            "Dimensionlity of vector space:  3\n"
          ]
        }
      ]
    },
    {
      "cell_type": "code",
      "source": [
        "#Part 2\n",
        "print(\"Number of vectors: \",A.shape[0])"
      ],
      "metadata": {
        "colab": {
          "base_uri": "https://localhost:8080/"
        },
        "id": "XGDf3eSWMmdD",
        "outputId": "c999acd2-99d5-4eb9-a9de-adefafbbeede"
      },
      "execution_count": null,
      "outputs": [
        {
          "output_type": "stream",
          "name": "stdout",
          "text": [
            "Number of vectors:  10\n"
          ]
        }
      ]
    },
    {
      "cell_type": "code",
      "source": [
        "#Part 3\n",
        "rankA=np.linalg.matrix_rank(A)\n",
        "print(\"Rank of Matrix A:\",rankA)"
      ],
      "metadata": {
        "colab": {
          "base_uri": "https://localhost:8080/"
        },
        "id": "fSL8J4zShGoE",
        "outputId": "583ce007-9f43-4ba5-e4c7-c5d634a487ef"
      },
      "execution_count": null,
      "outputs": [
        {
          "output_type": "stream",
          "name": "stdout",
          "text": [
            "Rank of Matrix A: 3\n"
          ]
        }
      ]
    },
    {
      "cell_type": "code",
      "source": [
        "#Part 4\n",
        "pinvA=np.linalg.pinv(A)\n",
        "X=np.dot(pinvA,C)\n",
        "print(\"Cost of each product:\",X)"
      ],
      "metadata": {
        "colab": {
          "base_uri": "https://localhost:8080/"
        },
        "id": "ZNNkc5L-h7Ax",
        "outputId": "5414a46b-0ce5-40d5-8f41-9c8003668d2d"
      },
      "execution_count": null,
      "outputs": [
        {
          "output_type": "stream",
          "name": "stdout",
          "text": [
            "Cost of each product: [[ 1.]\n",
            " [55.]\n",
            " [18.]]\n"
          ]
        }
      ]
    },
    {
      "cell_type": "markdown",
      "source": [
        "Question 2"
      ],
      "metadata": {
        "id": "JeN0-VLFiYps"
      }
    },
    {
      "cell_type": "code",
      "source": [
        "pinvA=np.linalg.pinv(A)\n",
        "X=np.dot(pinvA,C)\n",
        "print(\"Cost of each product:\",X)"
      ],
      "metadata": {
        "id": "5BAQZKQtzgF3"
      },
      "execution_count": null,
      "outputs": []
    },
    {
      "cell_type": "markdown",
      "source": [
        "Question 3"
      ],
      "metadata": {
        "id": "x_gkJ-F0NoTl"
      }
    },
    {
      "cell_type": "code",
      "source": [
        "from sklearn.model_selection import train_test_split\n",
        "from sklearn.preprocessing import StandardScaler\n",
        "from sklearn.linear_model import LogisticRegression\n",
        "\n",
        "label=np.where(C>200,'RICH','POOR')\n",
        "X_train,X_test,y_train,y_test=train_test_split(A,label,test_size=0.2,random_state=42)\n",
        "scaler=StandardScaler()\n",
        "X_train=scaler.fit_transform(X_train)\n",
        "X_test=scaler.transform(X_test)\n",
        "\n",
        "classifier=LogisticRegression()\n",
        "classifier.fit(X_train,y_train)\n",
        "\n",
        "df['Category']=classifier.predict(scaler.transform(A))\n",
        "print(df[['Customer',  'Payment (Rs)',  'Category']])"
      ],
      "metadata": {
        "colab": {
          "base_uri": "https://localhost:8080/"
        },
        "id": "VV8Hw0bjNrmx",
        "outputId": "fcdd7902-3637-4e60-9cfe-d1996d33871c"
      },
      "execution_count": null,
      "outputs": [
        {
          "output_type": "stream",
          "name": "stdout",
          "text": [
            "  Customer  Payment (Rs) Category\n",
            "0     RICH           386     RICH\n",
            "1     POOR           289     POOR\n",
            "2     RICH           393     RICH\n",
            "3     POOR           110     POOR\n",
            "4     RICH           280     RICH\n",
            "5     POOR           167     POOR\n",
            "6     RICH           271     RICH\n",
            "7     RICH           274     RICH\n",
            "8     POOR           148     POOR\n",
            "9     POOR           198     POOR\n"
          ]
        },
        {
          "output_type": "stream",
          "name": "stderr",
          "text": [
            "/usr/local/lib/python3.11/dist-packages/sklearn/utils/validation.py:1408: DataConversionWarning: A column-vector y was passed when a 1d array was expected. Please change the shape of y to (n_samples, ), for example using ravel().\n",
            "  y = column_or_1d(y, warn=True)\n"
          ]
        }
      ]
    },
    {
      "cell_type": "markdown",
      "source": [
        "Question 4"
      ],
      "metadata": {
        "id": "siFuh9uNNuO9"
      }
    },
    {
      "cell_type": "code",
      "source": [
        "from google.colab import files\n",
        "import statistics\n",
        "import pandas as pd\n",
        "import numpy as np\n",
        "\n",
        "IRCTC=files.upload()\n",
        "\n",
        "name=list(IRCTC.keys())[0]\n",
        "df=pd.read_excel(name)"
      ],
      "metadata": {
        "colab": {
          "base_uri": "https://localhost:8080/",
          "height": 73
        },
        "id": "DgspiepENzb8",
        "outputId": "75ec308b-45a8-437a-d93a-13be3fdb676a"
      },
      "execution_count": null,
      "outputs": [
        {
          "output_type": "display_data",
          "data": {
            "text/plain": [
              "<IPython.core.display.HTML object>"
            ],
            "text/html": [
              "\n",
              "     <input type=\"file\" id=\"files-5a10293e-d430-4e7e-805e-bbd595b3f151\" name=\"files[]\" multiple disabled\n",
              "        style=\"border:none\" />\n",
              "     <output id=\"result-5a10293e-d430-4e7e-805e-bbd595b3f151\">\n",
              "      Upload widget is only available when the cell has been executed in the\n",
              "      current browser session. Please rerun this cell to enable.\n",
              "      </output>\n",
              "      <script>// Copyright 2017 Google LLC\n",
              "//\n",
              "// Licensed under the Apache License, Version 2.0 (the \"License\");\n",
              "// you may not use this file except in compliance with the License.\n",
              "// You may obtain a copy of the License at\n",
              "//\n",
              "//      http://www.apache.org/licenses/LICENSE-2.0\n",
              "//\n",
              "// Unless required by applicable law or agreed to in writing, software\n",
              "// distributed under the License is distributed on an \"AS IS\" BASIS,\n",
              "// WITHOUT WARRANTIES OR CONDITIONS OF ANY KIND, either express or implied.\n",
              "// See the License for the specific language governing permissions and\n",
              "// limitations under the License.\n",
              "\n",
              "/**\n",
              " * @fileoverview Helpers for google.colab Python module.\n",
              " */\n",
              "(function(scope) {\n",
              "function span(text, styleAttributes = {}) {\n",
              "  const element = document.createElement('span');\n",
              "  element.textContent = text;\n",
              "  for (const key of Object.keys(styleAttributes)) {\n",
              "    element.style[key] = styleAttributes[key];\n",
              "  }\n",
              "  return element;\n",
              "}\n",
              "\n",
              "// Max number of bytes which will be uploaded at a time.\n",
              "const MAX_PAYLOAD_SIZE = 100 * 1024;\n",
              "\n",
              "function _uploadFiles(inputId, outputId) {\n",
              "  const steps = uploadFilesStep(inputId, outputId);\n",
              "  const outputElement = document.getElementById(outputId);\n",
              "  // Cache steps on the outputElement to make it available for the next call\n",
              "  // to uploadFilesContinue from Python.\n",
              "  outputElement.steps = steps;\n",
              "\n",
              "  return _uploadFilesContinue(outputId);\n",
              "}\n",
              "\n",
              "// This is roughly an async generator (not supported in the browser yet),\n",
              "// where there are multiple asynchronous steps and the Python side is going\n",
              "// to poll for completion of each step.\n",
              "// This uses a Promise to block the python side on completion of each step,\n",
              "// then passes the result of the previous step as the input to the next step.\n",
              "function _uploadFilesContinue(outputId) {\n",
              "  const outputElement = document.getElementById(outputId);\n",
              "  const steps = outputElement.steps;\n",
              "\n",
              "  const next = steps.next(outputElement.lastPromiseValue);\n",
              "  return Promise.resolve(next.value.promise).then((value) => {\n",
              "    // Cache the last promise value to make it available to the next\n",
              "    // step of the generator.\n",
              "    outputElement.lastPromiseValue = value;\n",
              "    return next.value.response;\n",
              "  });\n",
              "}\n",
              "\n",
              "/**\n",
              " * Generator function which is called between each async step of the upload\n",
              " * process.\n",
              " * @param {string} inputId Element ID of the input file picker element.\n",
              " * @param {string} outputId Element ID of the output display.\n",
              " * @return {!Iterable<!Object>} Iterable of next steps.\n",
              " */\n",
              "function* uploadFilesStep(inputId, outputId) {\n",
              "  const inputElement = document.getElementById(inputId);\n",
              "  inputElement.disabled = false;\n",
              "\n",
              "  const outputElement = document.getElementById(outputId);\n",
              "  outputElement.innerHTML = '';\n",
              "\n",
              "  const pickedPromise = new Promise((resolve) => {\n",
              "    inputElement.addEventListener('change', (e) => {\n",
              "      resolve(e.target.files);\n",
              "    });\n",
              "  });\n",
              "\n",
              "  const cancel = document.createElement('button');\n",
              "  inputElement.parentElement.appendChild(cancel);\n",
              "  cancel.textContent = 'Cancel upload';\n",
              "  const cancelPromise = new Promise((resolve) => {\n",
              "    cancel.onclick = () => {\n",
              "      resolve(null);\n",
              "    };\n",
              "  });\n",
              "\n",
              "  // Wait for the user to pick the files.\n",
              "  const files = yield {\n",
              "    promise: Promise.race([pickedPromise, cancelPromise]),\n",
              "    response: {\n",
              "      action: 'starting',\n",
              "    }\n",
              "  };\n",
              "\n",
              "  cancel.remove();\n",
              "\n",
              "  // Disable the input element since further picks are not allowed.\n",
              "  inputElement.disabled = true;\n",
              "\n",
              "  if (!files) {\n",
              "    return {\n",
              "      response: {\n",
              "        action: 'complete',\n",
              "      }\n",
              "    };\n",
              "  }\n",
              "\n",
              "  for (const file of files) {\n",
              "    const li = document.createElement('li');\n",
              "    li.append(span(file.name, {fontWeight: 'bold'}));\n",
              "    li.append(span(\n",
              "        `(${file.type || 'n/a'}) - ${file.size} bytes, ` +\n",
              "        `last modified: ${\n",
              "            file.lastModifiedDate ? file.lastModifiedDate.toLocaleDateString() :\n",
              "                                    'n/a'} - `));\n",
              "    const percent = span('0% done');\n",
              "    li.appendChild(percent);\n",
              "\n",
              "    outputElement.appendChild(li);\n",
              "\n",
              "    const fileDataPromise = new Promise((resolve) => {\n",
              "      const reader = new FileReader();\n",
              "      reader.onload = (e) => {\n",
              "        resolve(e.target.result);\n",
              "      };\n",
              "      reader.readAsArrayBuffer(file);\n",
              "    });\n",
              "    // Wait for the data to be ready.\n",
              "    let fileData = yield {\n",
              "      promise: fileDataPromise,\n",
              "      response: {\n",
              "        action: 'continue',\n",
              "      }\n",
              "    };\n",
              "\n",
              "    // Use a chunked sending to avoid message size limits. See b/62115660.\n",
              "    let position = 0;\n",
              "    do {\n",
              "      const length = Math.min(fileData.byteLength - position, MAX_PAYLOAD_SIZE);\n",
              "      const chunk = new Uint8Array(fileData, position, length);\n",
              "      position += length;\n",
              "\n",
              "      const base64 = btoa(String.fromCharCode.apply(null, chunk));\n",
              "      yield {\n",
              "        response: {\n",
              "          action: 'append',\n",
              "          file: file.name,\n",
              "          data: base64,\n",
              "        },\n",
              "      };\n",
              "\n",
              "      let percentDone = fileData.byteLength === 0 ?\n",
              "          100 :\n",
              "          Math.round((position / fileData.byteLength) * 100);\n",
              "      percent.textContent = `${percentDone}% done`;\n",
              "\n",
              "    } while (position < fileData.byteLength);\n",
              "  }\n",
              "\n",
              "  // All done.\n",
              "  yield {\n",
              "    response: {\n",
              "      action: 'complete',\n",
              "    }\n",
              "  };\n",
              "}\n",
              "\n",
              "scope.google = scope.google || {};\n",
              "scope.google.colab = scope.google.colab || {};\n",
              "scope.google.colab._files = {\n",
              "  _uploadFiles,\n",
              "  _uploadFilesContinue,\n",
              "};\n",
              "})(self);\n",
              "</script> "
            ]
          },
          "metadata": {}
        },
        {
          "output_type": "stream",
          "name": "stdout",
          "text": [
            "Saving IRCTC Stock Price.xlsx to IRCTC Stock Price (1).xlsx\n"
          ]
        }
      ]
    },
    {
      "cell_type": "code",
      "source": [
        "#Part 1\n",
        "price=df.iloc[:,3]\n",
        "mean_price=statistics.mean(price)\n",
        "variance_price=statistics.variance(price)\n",
        "print(\"Mean: \",mean_price)\n",
        "print(\"Variance: \",variance_price)"
      ],
      "metadata": {
        "colab": {
          "base_uri": "https://localhost:8080/"
        },
        "id": "J4RvNwNYSnRY",
        "outputId": "c0de100f-997b-4da6-cca0-4aee289802c1"
      },
      "execution_count": null,
      "outputs": [
        {
          "output_type": "stream",
          "name": "stdout",
          "text": [
            "Mean:  1560.663453815261\n",
            "Variance:  58732.365352539186\n"
          ]
        }
      ]
    },
    {
      "cell_type": "code",
      "source": [
        "#Part 2\n",
        "wednesday=df[df[\"Day\"]==\"Wed\"][\"Price\"]\n",
        "sample_mean_wed=statistics.mean(wednesday)\n",
        "print(\"Sample mean: \",sample_mean_wed)\n",
        "print(\"Population mean: \",mean_price)\n",
        "print(\"The sample mean and population mean are similar\")"
      ],
      "metadata": {
        "colab": {
          "base_uri": "https://localhost:8080/"
        },
        "id": "cgFrsTtDSr5V",
        "outputId": "999c461a-201a-4bfe-df3c-865fed721d54"
      },
      "execution_count": null,
      "outputs": [
        {
          "output_type": "stream",
          "name": "stdout",
          "text": [
            "Sample mean:  1550.706\n",
            "Population mean:  1560.663453815261\n",
            "The sample mean and population mean are similar\n"
          ]
        }
      ]
    },
    {
      "cell_type": "code",
      "source": [
        "#Part 3\n",
        "apr=df[df[\"Month\"]==\"Apr\"][\"Price\"]\n",
        "sample_mean_apr=statistics.mean(apr)\n",
        "print(\"Sample mean: \",sample_mean_apr)\n",
        "print(\"Population mean: \",mean_price)\n",
        "print(\"The sample mean and population mean are different\")"
      ],
      "metadata": {
        "colab": {
          "base_uri": "https://localhost:8080/"
        },
        "id": "mKXqeTexUpiN",
        "outputId": "a32e16f2-987d-4aac-c19a-e03e837e1eb1"
      },
      "execution_count": null,
      "outputs": [
        {
          "output_type": "stream",
          "name": "stdout",
          "text": [
            "Sample mean:  1698.9526315789474\n",
            "Population mean:  1560.663453815261\n",
            "The sample mean and population mean are different\n"
          ]
        }
      ]
    },
    {
      "cell_type": "code",
      "source": [
        "#Part 4\n",
        "chg=df.iloc[:,8]\n",
        "loss=list(filter(lambda x:x<0,chg))\n",
        "loss_percent=len(loss)/len(chg)\n",
        "print(\"Probability of loss: \",loss_percent*100)"
      ],
      "metadata": {
        "colab": {
          "base_uri": "https://localhost:8080/"
        },
        "id": "dMoNJBHIWn1z",
        "outputId": "c840a336-8e6a-4522-afa8-4fabd5310ebe"
      },
      "execution_count": null,
      "outputs": [
        {
          "output_type": "stream",
          "name": "stdout",
          "text": [
            "Probability of loss:  49.79919678714859\n"
          ]
        }
      ]
    },
    {
      "cell_type": "code",
      "source": [
        "#Part 5\n",
        "wednesday_data=df[df[\"Day\"]==\"Wed\"]\n",
        "wednesday_chg=wednesday_data.iloc[:,8]\n",
        "profit=list(filter(lambda x:x>0,wednesday_chg))\n",
        "profit_percent=len(profit)/len(wednesday_chg)\n",
        "print(\"Probability of profit on Wednesday: \",profit_percent*100)"
      ],
      "metadata": {
        "colab": {
          "base_uri": "https://localhost:8080/"
        },
        "id": "XSHoCBtAXc4k",
        "outputId": "9f9c5eda-194d-45d7-edb2-e5a7adb218fc"
      },
      "execution_count": null,
      "outputs": [
        {
          "output_type": "stream",
          "name": "stdout",
          "text": [
            "Probability of profit on Wednesday:  42.0\n"
          ]
        }
      ]
    },
    {
      "cell_type": "code",
      "source": [
        "#Part 6\n",
        "conditional_prob=(profit_percent/len(wednesday_chg))\n",
        "print(\"Conditional probability: \",conditional_prob*100)"
      ],
      "metadata": {
        "colab": {
          "base_uri": "https://localhost:8080/"
        },
        "id": "0i_YIgEIYoEb",
        "outputId": "f3a8bb09-9b0f-4a61-d056-b838cc8455c4"
      },
      "execution_count": null,
      "outputs": [
        {
          "output_type": "stream",
          "name": "stdout",
          "text": [
            "Conditional probability:  0.84\n"
          ]
        }
      ]
    },
    {
      "cell_type": "code",
      "source": [
        "#Part 7\n",
        "import matplotlib.pyplot as plt\n",
        "day=df[\"Day\"]\n",
        "chg=df[\"Chg%\"]\n",
        "plt.figure(figsize=(10,5))\n",
        "plt.scatter(day,chg,alpha=0.6)\n",
        "plt.xlabel(\"Day of the Week\")\n",
        "plt.ylabel(\"Chg%\")\n",
        "plt.title(\"Scatter Plot\")\n",
        "plt.grid(True)\n",
        "plt.show()\n"
      ],
      "metadata": {
        "colab": {
          "base_uri": "https://localhost:8080/",
          "height": 487
        },
        "id": "N2X1dXLDbIFG",
        "outputId": "65b97f05-06ed-46fe-eebc-987c0602743e"
      },
      "execution_count": null,
      "outputs": [
        {
          "output_type": "display_data",
          "data": {
            "text/plain": [
              "<Figure size 1000x500 with 1 Axes>"
            ],
            "image/png": "[encoded data removed]"
          },
          "metadata": {}
        }
      ]
    },
    {
      "cell_type": "markdown",
      "source": [
        "Question 5"
      ],
      "metadata": {
        "id": "poHJ5YRBb_dJ"
      }
    },
    {
      "cell_type": "code",
      "source": [
        "from google.colab import files\n",
        "import statistics\n",
        "import pandas as pd\n",
        "import numpy as np\n",
        "\n",
        "thyroid_data=files.upload()\n",
        "\n",
        "name=list(thyroid_data.keys())[0]\n",
        "df=pd.read_excel(name)"
      ],
      "metadata": {
        "colab": {
          "base_uri": "https://localhost:8080/",
          "height": 73
        },
        "id": "goDrSA6AcBqe",
        "outputId": "c46ffe57-5b8d-45aa-ac18-9a228a1b5db9"
      },
      "execution_count": null,
      "outputs": [
        {
          "output_type": "display_data",
          "data": {
            "text/plain": [
              "<IPython.core.display.HTML object>"
            ],
            "text/html": [
              "\n",
              "     <input type=\"file\" id=\"files-43a3ee9f-9fac-4ff0-b800-b807f3b4005a\" name=\"files[]\" multiple disabled\n",
              "        style=\"border:none\" />\n",
              "     <output id=\"result-43a3ee9f-9fac-4ff0-b800-b807f3b4005a\">\n",
              "      Upload widget is only available when the cell has been executed in the\n",
              "      current browser session. Please rerun this cell to enable.\n",
              "      </output>\n",
              "      <script>// Copyright 2017 Google LLC\n",
              "//\n",
              "// Licensed under the Apache License, Version 2.0 (the \"License\");\n",
              "// you may not use this file except in compliance with the License.\n",
              "// You may obtain a copy of the License at\n",
              "//\n",
              "//      http://www.apache.org/licenses/LICENSE-2.0\n",
              "//\n",
              "// Unless required by applicable law or agreed to in writing, software\n",
              "// distributed under the License is distributed on an \"AS IS\" BASIS,\n",
              "// WITHOUT WARRANTIES OR CONDITIONS OF ANY KIND, either express or implied.\n",
              "// See the License for the specific language governing permissions and\n",
              "// limitations under the License.\n",
              "\n",
              "/**\n",
              " * @fileoverview Helpers for google.colab Python module.\n",
              " */\n",
              "(function(scope) {\n",
              "function span(text, styleAttributes = {}) {\n",
              "  const element = document.createElement('span');\n",
              "  element.textContent = text;\n",
              "  for (const key of Object.keys(styleAttributes)) {\n",
              "    element.style[key] = styleAttributes[key];\n",
              "  }\n",
              "  return element;\n",
              "}\n",
              "\n",
              "// Max number of bytes which will be uploaded at a time.\n",
              "const MAX_PAYLOAD_SIZE = 100 * 1024;\n",
              "\n",
              "function _uploadFiles(inputId, outputId) {\n",
              "  const steps = uploadFilesStep(inputId, outputId);\n",
              "  const outputElement = document.getElementById(outputId);\n",
              "  // Cache steps on the outputElement to make it available for the next call\n",
              "  // to uploadFilesContinue from Python.\n",
              "  outputElement.steps = steps;\n",
              "\n",
              "  return _uploadFilesContinue(outputId);\n",
              "}\n",
              "\n",
              "// This is roughly an async generator (not supported in the browser yet),\n",
              "// where there are multiple asynchronous steps and the Python side is going\n",
              "// to poll for completion of each step.\n",
              "// This uses a Promise to block the python side on completion of each step,\n",
              "// then passes the result of the previous step as the input to the next step.\n",
              "function _uploadFilesContinue(outputId) {\n",
              "  const outputElement = document.getElementById(outputId);\n",
              "  const steps = outputElement.steps;\n",
              "\n",
              "  const next = steps.next(outputElement.lastPromiseValue);\n",
              "  return Promise.resolve(next.value.promise).then((value) => {\n",
              "    // Cache the last promise value to make it available to the next\n",
              "    // step of the generator.\n",
              "    outputElement.lastPromiseValue = value;\n",
              "    return next.value.response;\n",
              "  });\n",
              "}\n",
              "\n",
              "/**\n",
              " * Generator function which is called between each async step of the upload\n",
              " * process.\n",
              " * @param {string} inputId Element ID of the input file picker element.\n",
              " * @param {string} outputId Element ID of the output display.\n",
              " * @return {!Iterable<!Object>} Iterable of next steps.\n",
              " */\n",
              "function* uploadFilesStep(inputId, outputId) {\n",
              "  const inputElement = document.getElementById(inputId);\n",
              "  inputElement.disabled = false;\n",
              "\n",
              "  const outputElement = document.getElementById(outputId);\n",
              "  outputElement.innerHTML = '';\n",
              "\n",
              "  const pickedPromise = new Promise((resolve) => {\n",
              "    inputElement.addEventListener('change', (e) => {\n",
              "      resolve(e.target.files);\n",
              "    });\n",
              "  });\n",
              "\n",
              "  const cancel = document.createElement('button');\n",
              "  inputElement.parentElement.appendChild(cancel);\n",
              "  cancel.textContent = 'Cancel upload';\n",
              "  const cancelPromise = new Promise((resolve) => {\n",
              "    cancel.onclick = () => {\n",
              "      resolve(null);\n",
              "    };\n",
              "  });\n",
              "\n",
              "  // Wait for the user to pick the files.\n",
              "  const files = yield {\n",
              "    promise: Promise.race([pickedPromise, cancelPromise]),\n",
              "    response: {\n",
              "      action: 'starting',\n",
              "    }\n",
              "  };\n",
              "\n",
              "  cancel.remove();\n",
              "\n",
              "  // Disable the input element since further picks are not allowed.\n",
              "  inputElement.disabled = true;\n",
              "\n",
              "  if (!files) {\n",
              "    return {\n",
              "      response: {\n",
              "        action: 'complete',\n",
              "      }\n",
              "    };\n",
              "  }\n",
              "\n",
              "  for (const file of files) {\n",
              "    const li = document.createElement('li');\n",
              "    li.append(span(file.name, {fontWeight: 'bold'}));\n",
              "    li.append(span(\n",
              "        `(${file.type || 'n/a'}) - ${file.size} bytes, ` +\n",
              "        `last modified: ${\n",
              "            file.lastModifiedDate ? file.lastModifiedDate.toLocaleDateString() :\n",
              "                                    'n/a'} - `));\n",
              "    const percent = span('0% done');\n",
              "    li.appendChild(percent);\n",
              "\n",
              "    outputElement.appendChild(li);\n",
              "\n",
              "    const fileDataPromise = new Promise((resolve) => {\n",
              "      const reader = new FileReader();\n",
              "      reader.onload = (e) => {\n",
              "        resolve(e.target.result);\n",
              "      };\n",
              "      reader.readAsArrayBuffer(file);\n",
              "    });\n",
              "    // Wait for the data to be ready.\n",
              "    let fileData = yield {\n",
              "      promise: fileDataPromise,\n",
              "      response: {\n",
              "        action: 'continue',\n",
              "      }\n",
              "    };\n",
              "\n",
              "    // Use a chunked sending to avoid message size limits. See b/62115660.\n",
              "    let position = 0;\n",
              "    do {\n",
              "      const length = Math.min(fileData.byteLength - position, MAX_PAYLOAD_SIZE);\n",
              "      const chunk = new Uint8Array(fileData, position, length);\n",
              "      position += length;\n",
              "\n",
              "      const base64 = btoa(String.fromCharCode.apply(null, chunk));\n",
              "      yield {\n",
              "        response: {\n",
              "          action: 'append',\n",
              "          file: file.name,\n",
              "          data: base64,\n",
              "        },\n",
              "      };\n",
              "\n",
              "      let percentDone = fileData.byteLength === 0 ?\n",
              "          100 :\n",
              "          Math.round((position / fileData.byteLength) * 100);\n",
              "      percent.textContent = `${percentDone}% done`;\n",
              "\n",
              "    } while (position < fileData.byteLength);\n",
              "  }\n",
              "\n",
              "  // All done.\n",
              "  yield {\n",
              "    response: {\n",
              "      action: 'complete',\n",
              "    }\n",
              "  };\n",
              "}\n",
              "\n",
              "scope.google = scope.google || {};\n",
              "scope.google.colab = scope.google.colab || {};\n",
              "scope.google.colab._files = {\n",
              "  _uploadFiles,\n",
              "  _uploadFilesContinue,\n",
              "};\n",
              "})(self);\n",
              "</script> "
            ]
          },
          "metadata": {}
        },
        {
          "output_type": "stream",
          "name": "stdout",
          "text": [
            "Saving thyroid0387_UCI.xlsx to thyroid0387_UCI (1).xlsx\n"
          ]
        }
      ]
    },
    {
      "cell_type": "code",
      "source": [
        "#Part 1\n",
        "print(\"Record ID: Discrete\")\n",
        "print(\"age: Discrete\")\n",
        "print(\"sex: Nominal\")\n",
        "print(\"on thyroxine: Nominal\")\n",
        "print(\"query on thyroxine: Nominal\")\n",
        "print(\"on antithyroid medication: Nominal\")\n",
        "print(\"sick: Nominal\")\n",
        "print(\"pregnant: Nominal\")\n",
        "print(\"thyroid surgery: Nominal\")\n",
        "print(\"I131 treatment: Nominal\")\n",
        "print(\"query hypothyroid: Nominal\")\n",
        "print(\"query hyperthyroid: Nominal\")\n",
        "print(\"lithium: Nominal\")\n",
        "print(\"goitre: Nominal\")\n",
        "print(\"tumor: Nominal\")\n",
        "print(\"hypopituitary: Nominal\")\n",
        "print(\"psych: Nominal\")\n",
        "print(\"TSH measured: Nominal\")\n",
        "print(\"TSH: Continuous\")\n",
        "print(\"T3: Continuous\")\n",
        "print(\"T3 measured: Nominal\")\n",
        "print(\"TT4 measured: Nominal\")\n",
        "print(\"TT4: Continuous\")\n",
        "print(\"T4U measured: Nominal\")\n",
        "print(\"T4U: Continuous\")\n",
        "print(\"FTI measured: Nominal\")\n",
        "print(\"FTI: Continuous\")\n",
        "print(\"TBG measured: Nominal\")\n",
        "print(\"TBG: Continuous\")\n",
        "print(\"referral source: Nominal\")\n",
        "print(\"Condition: Nominal\")"
      ],
      "metadata": {
        "colab": {
          "base_uri": "https://localhost:8080/"
        },
        "id": "7fjvKO4VcpSA",
        "outputId": "db0f2770-6e6f-4285-e885-038ad78dc9b2"
      },
      "execution_count": null,
      "outputs": [
        {
          "output_type": "stream",
          "name": "stdout",
          "text": [
            "Record ID: Discrete\n",
            "age: Discrete\n",
            "sex: Nominal\n",
            "on thyroxine: Nominal\n",
            "query on thyroxine: Nominal\n",
            "on antithyroid medication: Nominal\n",
            "sick: Nominal\n",
            "pregnant: Nominal\n",
            "thyroid surgery: Nominal\n",
            "I131 treatment: Nominal\n",
            "query hypothyroid: Nominal\n",
            "query hyperthyroid: Nominal\n",
            "lithium: Nominal\n",
            "goitre: Nominal\n",
            "tumor: Nominal\n",
            "hypopituitary: Nominal\n",
            "psych: Nominal\n",
            "TSH measured: Nominal\n",
            "TSH: Continuous\n",
            "T3: Continuous\n",
            "T3 measured: Nominal\n",
            "TT4 measured: Nominal\n",
            "TT4: Continuous\n",
            "T4U measured: Nominal\n",
            "T4U: Continuous\n",
            "FTI measured: Nominal\n",
            "FTI: Continuous\n",
            "TBG measured: Nominal\n",
            "TBG: Continuous\n",
            "referral source: Nominal\n",
            "Condition: Nominal\n"
          ]
        }
      ]
    },
    {
      "cell_type": "code",
      "source": [
        "#Part 2\n",
        "df.replace(\"?\",np.nan,inplace=True)\n",
        "df_cleaned = df.dropna()\n",
        "record_ID=max(df.iloc[:,0])-min(df.iloc[:,0])+1\n",
        "age=max(df.iloc[:,1])-min(df.iloc[:,1])+1\n",
        "TSH=max(df.iloc[:,18])-min(df.iloc[:,18])+1\n",
        "T3=max(df.iloc[:,20])-min(df.iloc[:,20])+1\n",
        "TT4=max(df.iloc[:,22])-min(df.iloc[:,22])+1\n",
        "T4U=max(df.iloc[:,24])-min(df.iloc[:,24])+1\n",
        "FTI=max(df.iloc[:,26])-min(df.iloc[:,26])+1\n",
        "TBG=max(df.iloc[:,28])-min(df.iloc[:,28])+1\n",
        "print(\"Record ID: \",record_ID)\n",
        "print(\"Age: \",age)\n",
        "print(\"TSH: \",TSH)\n",
        "print(\"T3: \",T3)\n",
        "print(\"TT4: \",TT4)\n",
        "print(\"T4U: \",T4U)\n",
        "print(\"FTI: \",FTI)\n",
        "print(\"TBG: \",TBG)"
      ],
      "metadata": {
        "colab": {
          "base_uri": "https://localhost:8080/"
        },
        "id": "nAZb1H5-ihkz",
        "outputId": "61d8c014-c76f-4c3b-cb53-d833ef648ad6"
      },
      "execution_count": null,
      "outputs": [
        {
          "output_type": "stream",
          "name": "stdout",
          "text": [
            "Record ID:  29318023\n",
            "Age:  65526\n",
            "TSH:  530.995\n",
            "T3:  nan\n",
            "TT4:  nan\n",
            "T4U:  nan\n",
            "FTI:  nan\n",
            "TBG:  nan\n"
          ]
        }
      ]
    },
    {
      "cell_type": "code",
      "source": [
        "import seaborn as sns\n",
        "df.replace([\"?\", \"NA\", \"na\", \"--\", \" \"],np.nan,inplace=True)\n",
        "\n",
        "numeric_df=df.select_dtypes(include=[np.number]).copy()\n",
        "\n",
        "missing_counts=numeric_df.isnull().sum()\n",
        "print(\"Missing Values:\\n\",missing_counts[missing_counts>0])\n",
        "\n",
        "Q1=numeric_df.quantile(0.25)\n",
        "Q3=numeric_df.quantile(0.75)\n",
        "IQR=Q3-Q1\n",
        "outlier_mask=(numeric_df<(Q1-1.5*IQR)) | (numeric_df>(Q3+1.5*IQR))\n",
        "\n",
        "for col in numeric_df.columns:\n",
        "    if outlier_mask[col].any():\n",
        "        numeric_df[col].fillna(numeric_df[col].median(),inplace=True)\n",
        "    else:\n",
        "        numeric_df[col].fillna(numeric_df[col].mean(),inplace=True)\n",
        "\n",
        "numeric_stats=numeric_df.describe().T[['mean','std']]\n",
        "numeric_stats['variance']=numeric_stats['std']**2\n",
        "\n",
        "print(\"\\nMean, Variance & Standard Deviation:\\n\",numeric_stats)"
      ],
      "metadata": {
        "colab": {
          "base_uri": "https://localhost:8080/"
        },
        "id": "fhGFvO5hsvax",
        "outputId": "bbd84697-ca65-421e-ee45-6fb1b82e4d1f"
      },
      "execution_count": null,
      "outputs": [
        {
          "output_type": "stream",
          "name": "stdout",
          "text": [
            "Missing Values Before Imputation:\n",
            " sex                          9172\n",
            "on thyroxine                 9172\n",
            "query on thyroxine           9172\n",
            "on antithyroid medication    9172\n",
            "sick                         9172\n",
            "pregnant                     9172\n",
            "thyroid surgery              9172\n",
            "I131 treatment               9172\n",
            "query hypothyroid            9172\n",
            "query hyperthyroid           9172\n",
            "lithium                      9172\n",
            "goitre                       9172\n",
            "tumor                        9172\n",
            "hypopituitary                9172\n",
            "psych                        9172\n",
            "TSH measured                 9172\n",
            "TSH                           842\n",
            "T3 measured                  9172\n",
            "T3                           2604\n",
            "TT4 measured                 9172\n",
            "TT4                           442\n",
            "T4U measured                 9172\n",
            "T4U                           809\n",
            "FTI measured                 9172\n",
            "FTI                           802\n",
            "TBG measured                 9172\n",
            "TBG                          8823\n",
            "referral source              9172\n",
            "Condition                    9172\n",
            "dtype: int64\n",
            "\n",
            "Mean, Variance & Standard Deviation for Numeric Attributes:\n",
            "                                    mean           std      variance\n",
            "Record ID                  8.529473e+08  7.581969e+06  5.748625e+13\n",
            "age                        7.355582e+01  1.183977e+03  1.401801e+06\n",
            "sex                                 NaN           NaN           NaN\n",
            "on thyroxine                        NaN           NaN           NaN\n",
            "query on thyroxine                  NaN           NaN           NaN\n",
            "on antithyroid medication           NaN           NaN           NaN\n",
            "sick                                NaN           NaN           NaN\n",
            "pregnant                            NaN           NaN           NaN\n",
            "thyroid surgery                     NaN           NaN           NaN\n",
            "I131 treatment                      NaN           NaN           NaN\n",
            "query hypothyroid                   NaN           NaN           NaN\n",
            "query hyperthyroid                  NaN           NaN           NaN\n",
            "lithium                             NaN           NaN           NaN\n",
            "goitre                              NaN           NaN           NaN\n",
            "tumor                               NaN           NaN           NaN\n",
            "hypopituitary                       NaN           NaN           NaN\n",
            "psych                               NaN           NaN           NaN\n",
            "TSH measured                        NaN           NaN           NaN\n",
            "TSH                        4.867869e+00  2.307346e+01  5.323847e+02\n",
            "T3 measured                         NaN           NaN           NaN\n",
            "T3                         1.950577e+00  7.517478e-01  5.651248e-01\n",
            "TT4 measured                        NaN           NaN           NaN\n",
            "TT4                        1.084738e+02  3.662113e+01  1.341108e+03\n",
            "T4U measured                        NaN           NaN           NaN\n",
            "T4U                        9.746396e-01  1.913734e-01  3.662380e-02\n",
            "FTI measured                        NaN           NaN           NaN\n",
            "FTI                        1.132350e+02  3.971490e+01  1.577273e+03\n",
            "TBG measured                        NaN           NaN           NaN\n",
            "TBG                        2.614726e+01  4.172634e+00  1.741087e+01\n",
            "referral source                     NaN           NaN           NaN\n",
            "Condition                           NaN           NaN           NaN\n"
          ]
        },
        {
          "output_type": "stream",
          "name": "stderr",
          "text": [
            "<ipython-input-20-74a9a2c5b543>:54: FutureWarning: A value is trying to be set on a copy of a DataFrame or Series through chained assignment using an inplace method.\n",
            "The behavior will change in pandas 3.0. This inplace method will never work because the intermediate object on which we are setting values always behaves as a copy.\n",
            "\n",
            "For example, when doing 'df[col].method(value, inplace=True)', try using 'df.method({col: value}, inplace=True)' or df[col] = df[col].method(value) instead, to perform the operation inplace on the original object.\n",
            "\n",
            "\n",
            "  numeric_df[col].fillna(numeric_df[col].mean(), inplace=True)\n",
            "<ipython-input-20-74a9a2c5b543>:52: FutureWarning: A value is trying to be set on a copy of a DataFrame or Series through chained assignment using an inplace method.\n",
            "The behavior will change in pandas 3.0. This inplace method will never work because the intermediate object on which we are setting values always behaves as a copy.\n",
            "\n",
            "For example, when doing 'df[col].method(value, inplace=True)', try using 'df.method({col: value}, inplace=True)' or df[col] = df[col].method(value) instead, to perform the operation inplace on the original object.\n",
            "\n",
            "\n",
            "  numeric_df[col].fillna(numeric_df[col].median(), inplace=True)\n"
          ]
        }
      ]
    },
    {
      "cell_type": "markdown",
      "source": [
        "Question 6"
      ],
      "metadata": {
        "id": "0CLVDCYzrDkQ"
      }
    },
    {
      "cell_type": "code",
      "source": [
        "from google.colab import files\n",
        "import statistics\n",
        "import pandas as pd\n",
        "import numpy as np\n",
        "\n",
        "market=files.upload()\n",
        "\n",
        "name=list(market.keys())[0]\n",
        "df=pd.read_excel(name)"
      ],
      "metadata": {
        "id": "HS6j8IY7vu0s",
        "colab": {
          "base_uri": "https://localhost:8080/",
          "height": 73
        },
        "outputId": "affc8ac1-77b5-45ad-d27c-08c3a38301fb"
      },
      "execution_count": null,
      "outputs": [
        {
          "output_type": "display_data",
          "data": {
            "text/plain": [
              "<IPython.core.display.HTML object>"
            ],
            "text/html": [
              "\n",
              "     <input type=\"file\" id=\"files-bd6ad8d4-bdc5-41df-baf6-4855aee1832e\" name=\"files[]\" multiple disabled\n",
              "        style=\"border:none\" />\n",
              "     <output id=\"result-bd6ad8d4-bdc5-41df-baf6-4855aee1832e\">\n",
              "      Upload widget is only available when the cell has been executed in the\n",
              "      current browser session. Please rerun this cell to enable.\n",
              "      </output>\n",
              "      <script>// Copyright 2017 Google LLC\n",
              "//\n",
              "// Licensed under the Apache License, Version 2.0 (the \"License\");\n",
              "// you may not use this file except in compliance with the License.\n",
              "// You may obtain a copy of the License at\n",
              "//\n",
              "//      http://www.apache.org/licenses/LICENSE-2.0\n",
              "//\n",
              "// Unless required by applicable law or agreed to in writing, software\n",
              "// distributed under the License is distributed on an \"AS IS\" BASIS,\n",
              "// WITHOUT WARRANTIES OR CONDITIONS OF ANY KIND, either express or implied.\n",
              "// See the License for the specific language governing permissions and\n",
              "// limitations under the License.\n",
              "\n",
              "/**\n",
              " * @fileoverview Helpers for google.colab Python module.\n",
              " */\n",
              "(function(scope) {\n",
              "function span(text, styleAttributes = {}) {\n",
              "  const element = document.createElement('span');\n",
              "  element.textContent = text;\n",
              "  for (const key of Object.keys(styleAttributes)) {\n",
              "    element.style[key] = styleAttributes[key];\n",
              "  }\n",
              "  return element;\n",
              "}\n",
              "\n",
              "// Max number of bytes which will be uploaded at a time.\n",
              "const MAX_PAYLOAD_SIZE = 100 * 1024;\n",
              "\n",
              "function _uploadFiles(inputId, outputId) {\n",
              "  const steps = uploadFilesStep(inputId, outputId);\n",
              "  const outputElement = document.getElementById(outputId);\n",
              "  // Cache steps on the outputElement to make it available for the next call\n",
              "  // to uploadFilesContinue from Python.\n",
              "  outputElement.steps = steps;\n",
              "\n",
              "  return _uploadFilesContinue(outputId);\n",
              "}\n",
              "\n",
              "// This is roughly an async generator (not supported in the browser yet),\n",
              "// where there are multiple asynchronous steps and the Python side is going\n",
              "// to poll for completion of each step.\n",
              "// This uses a Promise to block the python side on completion of each step,\n",
              "// then passes the result of the previous step as the input to the next step.\n",
              "function _uploadFilesContinue(outputId) {\n",
              "  const outputElement = document.getElementById(outputId);\n",
              "  const steps = outputElement.steps;\n",
              "\n",
              "  const next = steps.next(outputElement.lastPromiseValue);\n",
              "  return Promise.resolve(next.value.promise).then((value) => {\n",
              "    // Cache the last promise value to make it available to the next\n",
              "    // step of the generator.\n",
              "    outputElement.lastPromiseValue = value;\n",
              "    return next.value.response;\n",
              "  });\n",
              "}\n",
              "\n",
              "/**\n",
              " * Generator function which is called between each async step of the upload\n",
              " * process.\n",
              " * @param {string} inputId Element ID of the input file picker element.\n",
              " * @param {string} outputId Element ID of the output display.\n",
              " * @return {!Iterable<!Object>} Iterable of next steps.\n",
              " */\n",
              "function* uploadFilesStep(inputId, outputId) {\n",
              "  const inputElement = document.getElementById(inputId);\n",
              "  inputElement.disabled = false;\n",
              "\n",
              "  const outputElement = document.getElementById(outputId);\n",
              "  outputElement.innerHTML = '';\n",
              "\n",
              "  const pickedPromise = new Promise((resolve) => {\n",
              "    inputElement.addEventListener('change', (e) => {\n",
              "      resolve(e.target.files);\n",
              "    });\n",
              "  });\n",
              "\n",
              "  const cancel = document.createElement('button');\n",
              "  inputElement.parentElement.appendChild(cancel);\n",
              "  cancel.textContent = 'Cancel upload';\n",
              "  const cancelPromise = new Promise((resolve) => {\n",
              "    cancel.onclick = () => {\n",
              "      resolve(null);\n",
              "    };\n",
              "  });\n",
              "\n",
              "  // Wait for the user to pick the files.\n",
              "  const files = yield {\n",
              "    promise: Promise.race([pickedPromise, cancelPromise]),\n",
              "    response: {\n",
              "      action: 'starting',\n",
              "    }\n",
              "  };\n",
              "\n",
              "  cancel.remove();\n",
              "\n",
              "  // Disable the input element since further picks are not allowed.\n",
              "  inputElement.disabled = true;\n",
              "\n",
              "  if (!files) {\n",
              "    return {\n",
              "      response: {\n",
              "        action: 'complete',\n",
              "      }\n",
              "    };\n",
              "  }\n",
              "\n",
              "  for (const file of files) {\n",
              "    const li = document.createElement('li');\n",
              "    li.append(span(file.name, {fontWeight: 'bold'}));\n",
              "    li.append(span(\n",
              "        `(${file.type || 'n/a'}) - ${file.size} bytes, ` +\n",
              "        `last modified: ${\n",
              "            file.lastModifiedDate ? file.lastModifiedDate.toLocaleDateString() :\n",
              "                                    'n/a'} - `));\n",
              "    const percent = span('0% done');\n",
              "    li.appendChild(percent);\n",
              "\n",
              "    outputElement.appendChild(li);\n",
              "\n",
              "    const fileDataPromise = new Promise((resolve) => {\n",
              "      const reader = new FileReader();\n",
              "      reader.onload = (e) => {\n",
              "        resolve(e.target.result);\n",
              "      };\n",
              "      reader.readAsArrayBuffer(file);\n",
              "    });\n",
              "    // Wait for the data to be ready.\n",
              "    let fileData = yield {\n",
              "      promise: fileDataPromise,\n",
              "      response: {\n",
              "        action: 'continue',\n",
              "      }\n",
              "    };\n",
              "\n",
              "    // Use a chunked sending to avoid message size limits. See b/62115660.\n",
              "    let position = 0;\n",
              "    do {\n",
              "      const length = Math.min(fileData.byteLength - position, MAX_PAYLOAD_SIZE);\n",
              "      const chunk = new Uint8Array(fileData, position, length);\n",
              "      position += length;\n",
              "\n",
              "      const base64 = btoa(String.fromCharCode.apply(null, chunk));\n",
              "      yield {\n",
              "        response: {\n",
              "          action: 'append',\n",
              "          file: file.name,\n",
              "          data: base64,\n",
              "        },\n",
              "      };\n",
              "\n",
              "      let percentDone = fileData.byteLength === 0 ?\n",
              "          100 :\n",
              "          Math.round((position / fileData.byteLength) * 100);\n",
              "      percent.textContent = `${percentDone}% done`;\n",
              "\n",
              "    } while (position < fileData.byteLength);\n",
              "  }\n",
              "\n",
              "  // All done.\n",
              "  yield {\n",
              "    response: {\n",
              "      action: 'complete',\n",
              "    }\n",
              "  };\n",
              "}\n",
              "\n",
              "scope.google = scope.google || {};\n",
              "scope.google.colab = scope.google.colab || {};\n",
              "scope.google.colab._files = {\n",
              "  _uploadFiles,\n",
              "  _uploadFilesContinue,\n",
              "};\n",
              "})(self);\n",
              "</script> "
            ]
          },
          "metadata": {}
        },
        {
          "output_type": "stream",
          "name": "stdout",
          "text": [
            "Saving marketing_campaign.xlsx to marketing_campaign (2).xlsx\n"
          ]
        }
      ]
    },
    {
      "cell_type": "code",
      "source": [
        "print(\"Missing values:\")\n",
        "print(df.isnull().sum())\n",
        "\n",
        "numeric_cols=df.select_dtypes(include=[np.number]).columns\n",
        "categorical_cols=df.select_dtypes(include=[object]).columns\n",
        "\n",
        "def has_outliers(series):\n",
        "    Q1=series.quantile(0.25)\n",
        "    Q3=series.quantile(0.75)\n",
        "    IQR=Q3-Q1\n",
        "    lower_bound=Q1-1.5*IQR\n",
        "    upper_bound=Q3+1.5*IQR\n",
        "    return ((series<lower_bound) | (series>upper_bound)).any()\n",
        "\n",
        "for col in numeric_cols:\n",
        "    if df[col].isnull().sum()>0:\n",
        "        if has_outliers(df[col]):\n",
        "            df[col].fillna(df[col].median(),inplace=True)\n",
        "        else:\n",
        "            df[col].fillna(df[col].mean(),inplace=True)\n",
        "\n",
        "for col in categorical_cols:\n",
        "    if df[col].isnull().sum()>0:\n",
        "        df[col].fillna(df[col].mode()[0],inplace=True)\n",
        "\n",
        "df.to_csv(\"market_cleaned.csv\", index=False)"
      ],
      "metadata": {
        "colab": {
          "base_uri": "https://localhost:8080/"
        },
        "id": "ARmJXXjNt1Z-",
        "outputId": "0944ad45-65ca-4930-fb5c-4b5c4ae76b94"
      },
      "execution_count": null,
      "outputs": [
        {
          "output_type": "stream",
          "name": "stdout",
          "text": [
            "Missing values:\n",
            "ID                      0\n",
            "Year_Birth              0\n",
            "Education               0\n",
            "Marital_Status          0\n",
            "Income                 24\n",
            "Kidhome                 0\n",
            "Teenhome                0\n",
            "Dt_Customer             0\n",
            "Recency                 0\n",
            "MntWines                0\n",
            "MntFruits               0\n",
            "MntMeatProducts         0\n",
            "MntFishProducts         0\n",
            "MntSweetProducts        0\n",
            "MntGoldProds            0\n",
            "NumDealsPurchases       0\n",
            "NumWebPurchases         0\n",
            "NumCatalogPurchases     0\n",
            "NumStorePurchases       0\n",
            "NumWebVisitsMonth       0\n",
            "AcceptedCmp3            0\n",
            "AcceptedCmp4            0\n",
            "AcceptedCmp5            0\n",
            "AcceptedCmp1            0\n",
            "AcceptedCmp2            0\n",
            "Complain                0\n",
            "Z_CostContact           0\n",
            "Z_Revenue               0\n",
            "Response                0\n",
            "dtype: int64\n"
          ]
        },
        {
          "output_type": "stream",
          "name": "stderr",
          "text": [
            "<ipython-input-13-3ce4993e663b>:18: FutureWarning: A value is trying to be set on a copy of a DataFrame or Series through chained assignment using an inplace method.\n",
            "The behavior will change in pandas 3.0. This inplace method will never work because the intermediate object on which we are setting values always behaves as a copy.\n",
            "\n",
            "For example, when doing 'df[col].method(value, inplace=True)', try using 'df.method({col: value}, inplace=True)' or df[col] = df[col].method(value) instead, to perform the operation inplace on the original object.\n",
            "\n",
            "\n",
            "  df[col].fillna(df[col].median(),inplace=True)\n"
          ]
        }
      ]
    },
    {
      "cell_type": "markdown",
      "source": [
        "Question 7"
      ],
      "metadata": {
        "id": "1rZvN5_Owpy-"
      }
    },
    {
      "cell_type": "code",
      "source": [
        "from sklearn.preprocessing import MinMaxScaler,StandardScaler\n",
        "\n",
        "numeric_cols=df.select_dtypes(include=[np.number]).columns\n",
        "\n",
        "skewed_cols=df[numeric_cols].apply(lambda x: x.skew()).abs()\n",
        "highly_skewed=skewed_cols[skewed_cols>1].index\n",
        "\n",
        "scaler=MinMaxScaler()\n",
        "df[numeric_cols]=scaler.fit_transform(df[numeric_cols])\n",
        "\n",
        "for col in highly_skewed:\n",
        "    df[col]=np.log1p(df[col])\n",
        "\n",
        "df.to_csv(\"normal_market.csv\",index=False)\n",
        "\n",
        "print(f\"Normalization completed\")\n"
      ],
      "metadata": {
        "colab": {
          "base_uri": "https://localhost:8080/"
        },
        "id": "uoCsg-hFwuuW",
        "outputId": "f1041c01-008e-4d6c-bc99-0bb6b87f18d2"
      },
      "execution_count": null,
      "outputs": [
        {
          "output_type": "stream",
          "name": "stdout",
          "text": [
            "Normalization completed\n"
          ]
        }
      ]
    },
    {
      "cell_type": "markdown",
      "source": [
        "Question 8"
      ],
      "metadata": {
        "id": "mHfdhYQTpOpF"
      }
    },
    {
      "cell_type": "code",
      "source": [
        "binary_cols = []\n",
        "for col in df.columns:\n",
        "    non_null_values = df[col].dropna()\n",
        "    if non_null_values.isin([0, 1]).all():\n",
        "        binary_cols.append(col)\n",
        "\n",
        "binary_data=df[binary_cols]\n",
        "\n",
        "vec1=binary_data.iloc[0].values\n",
        "vec2=binary_data.iloc[1].values\n",
        "\n",
        "A_inter_B=np.sum((vec1==1) & (vec2==1))\n",
        "A_union_B=np.sum((vec1==1) | (vec2==1))\n",
        "A_comp_inter_B_comp=np.sum((vec1==0) & (vec2==0))\n",
        "total_attributes=len(vec1)\n",
        "\n",
        "JC=A_inter_B/A_union_B if A_union_B != 0 else 0\n",
        "SMC=(A_inter_B+A_comp_inter_B_comp)/total_attributes\n",
        "\n",
        "print(f\"Jaccard Coefficient (JC): {JC:.4f}\")\n",
        "print(f\"Simple Matching Coefficient (SMC): {SMC:.4f}\")"
      ],
      "metadata": {
        "colab": {
          "base_uri": "https://localhost:8080/"
        },
        "id": "ql6XvIRYpQCH",
        "outputId": "d4938c8f-df93-4616-982e-4260f40beee7"
      },
      "execution_count": null,
      "outputs": [
        {
          "output_type": "stream",
          "name": "stdout",
          "text": [
            "Jaccard Coefficient (JC): 0.0000\n",
            "Simple Matching Coefficient (SMC): 0.8571\n"
          ]
        }
      ]
    },
    {
      "cell_type": "markdown",
      "source": [
        "Question 10"
      ],
      "metadata": {
        "id": "hR8N1OeFqqgK"
      }
    },
    {
      "cell_type": "code",
      "source": [
        "import seaborn as sns\n",
        "df_20 = df.iloc[:20]\n",
        "\n",
        "binary_cols = [col for col in df_20.columns if df_20[col].dropna().isin([0,1]).all()]\n",
        "binary_data = df_20[binary_cols]\n",
        "\n",
        "def jaccard_similarity(vec1, vec2):\n",
        "    intersection=np.sum((vec1==1) & (vec2==1))\n",
        "    union=np.sum((vec1==1) | (vec2==1))\n",
        "    return intersection / union if union != 0 else 0\n",
        "\n",
        "def smc_similarity(vec1,vec2):\n",
        "    match_1s=np.sum((vec1==1) & (vec2==1))\n",
        "    match_0s=np.sum((vec1==0) & (vec2==0))\n",
        "    return (match_1s+match_0s) / len(vec1)\n",
        "\n",
        "n=len(df_20)\n",
        "jc_matrix=np.zeros((n,n))\n",
        "smc_matrix=np.zeros((n,n))\n",
        "\n",
        "for i in range(n):\n",
        "    for j in range(n):\n",
        "        jc_matrix[i,j]=jaccard_similarity(binary_data.iloc[i].values, binary_data.iloc[j].values)\n",
        "        smc_matrix[i,j]=smc_similarity(binary_data.iloc[i].values, binary_data.iloc[j].values)\n",
        "\n",
        "plt.figure(figsize=(15, 5))\n",
        "\n",
        "plt.subplot(1,3,1)\n",
        "sns.heatmap(jc_matrix,annot=True,cmap=\"coolwarm\",fmt=\".2f\")\n",
        "plt.title(\"Jaccard Coefficient\")\n",
        "\n",
        "plt.subplot(1,3,2)\n",
        "sns.heatmap(smc_matrix,annot=True,cmap=\"coolwarm\",fmt=\".2f\")\n",
        "plt.title(\"Simple Matching Coefficient\")\n",
        "\n",
        "plt.tight_layout()\n",
        "plt.show()"
      ],
      "metadata": {
        "colab": {
          "base_uri": "https://localhost:8080/",
          "height": 507
        },
        "id": "H1rbWNTZqr-E",
        "outputId": "7cfe2ca7-68ba-4bce-bf22-3b0712150675"
      },
      "execution_count": null,
      "outputs": [
        {
          "output_type": "display_data",
          "data": {
            "text/plain": [
              "<Figure size 1500x500 with 4 Axes>"
            ],
            "image/png": "[encoded data removed]"
          },
          "metadata": {}
        }
      ]
    }
  ]
}