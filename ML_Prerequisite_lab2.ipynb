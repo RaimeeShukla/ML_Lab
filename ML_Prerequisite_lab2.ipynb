{
  "nbformat": 4,
  "nbformat_minor": 0,
  "metadata": {
    "colab": {
      "provenance": [],
      "authorship_tag": "ABX9TyO9titvO9rm7Jptj9tNwMFp",
      "include_colab_link": true
    },
    "kernelspec": {
      "name": "python3",
      "display_name": "Python 3"
    },
    "language_info": {
      "name": "python"
    }
  },
  "cells": [
    {
      "cell_type": "markdown",
      "metadata": {
        "id": "view-in-github",
        "colab_type": "text"
      },
      "source": [
        "<a href=\"https://colab.research.google.com/github/RaimeeShukla/ML_Lab2/blob/main/ML_Prerequisite_lab2.ipynb\" target=\"_parent\"><img src=\"https://colab.research.google.com/assets/colab-badge.svg\" alt=\"Open In Colab\"/></a>"
      ]
    },
    {
      "cell_type": "code",
      "execution_count": 2,
      "metadata": {
        "colab": {
          "base_uri": "https://localhost:8080/"
        },
        "id": "9HzRPBODGJz6",
        "outputId": "6da5985f-0fe8-493f-85c9-ce220ccf5ee9"
      },
      "outputs": [
        {
          "output_type": "stream",
          "name": "stdout",
          "text": [
            "2\n"
          ]
        }
      ],
      "source": [
        "#Question 1\n",
        "#Consider the given list as [2, 7, 4, 1, 3, 6]. Write a program to count pairs of elements with sum equal to 10.\n",
        "L=[2,7,4,1,3,6]\n",
        "c=0\n",
        "for i in range(len(L)):\n",
        "  temp=L[i]\n",
        "  for j in range(i,len(L)):\n",
        "    if(L[j]+temp==10):\n",
        "      c=c+1\n",
        "print(c)"
      ]
    },
    {
      "cell_type": "code",
      "source": [
        "#Question 8\n",
        "#Write a program that takes a list of real numbers as input and returns the range of the list.\n",
        "#Check for list being less than 3 elements in which case return an error message (Ex: “Range determination not possible”).\n",
        "n=int(input(\"Enter number of elements: \"))\n",
        "L1=list()\n",
        "for i in range(n):\n",
        "  e=float(input(\"Enter number: \"))\n",
        "  L1.append(e)\n",
        "if(len(L1)<3):\n",
        "  print(\"Range determination not possible\")\n",
        "else:\n",
        "  print(\"Range of list given: \",max(L1)-min(L1))"
      ],
      "metadata": {
        "colab": {
          "base_uri": "https://localhost:8080/"
        },
        "id": "eAlQVqYzHa05",
        "outputId": "7ef646e0-9268-4ff7-c235-1440b1a0ad84"
      },
      "execution_count": 5,
      "outputs": [
        {
          "output_type": "stream",
          "name": "stdout",
          "text": [
            "Enter number of elements: 2\n",
            "Enter number: 12\n",
            "Enter number: 3\n",
            "Range determination not possible\n"
          ]
        }
      ]
    },
    {
      "cell_type": "code",
      "source": [
        "#Question 3\n",
        "#Write a program that accepts a square matrix A and a positive integer m as arguments and returns A^m\n",
        "def matrix(A,m):\n",
        "  for r in range(len(A)):\n",
        "    for c in range(len(A)):\n",
        "      A[r][c]=A[r][c]**m\n",
        "      print(A[r][c],end=\" \")\n",
        "    print(\" \")\n",
        "\n",
        "A=[[1,2,3],[4,5,6],[7,8,9]]\n",
        "matrix(A,3)"
      ],
      "metadata": {
        "colab": {
          "base_uri": "https://localhost:8080/"
        },
        "id": "9V7y0xPSJB12",
        "outputId": "ce71cd95-7db5-4f16-d2ed-3e977430809a"
      },
      "execution_count": 11,
      "outputs": [
        {
          "output_type": "stream",
          "name": "stdout",
          "text": [
            "1 8 27  \n",
            "64 125 216  \n",
            "343 512 729  \n"
          ]
        }
      ]
    },
    {
      "cell_type": "code",
      "source": [
        "#Question 4\n",
        "#Write a program to count the highest occurring character & its occurrence count in an input string.\n",
        "#Consider only alphabets. Ex: for “hippopotamus” as input string, the maximally occurring character is ‘p’ & occurrence count is 3.\n",
        "string=input(\"Enter a string: \")\n",
        "max=0\n",
        "s=\"\"\n",
        "for i in range(0,len(string)):\n",
        "  temp1=string[i]\n",
        "  c=0\n",
        "  for j in range(i,len(string)):\n",
        "    if(string[j]==temp1):\n",
        "      c=c+1\n",
        "  if(c>max):\n",
        "    max=c\n",
        "    s=temp1\n",
        "\n",
        "print(\"Most occuring letter: \",s)\n",
        "print(\"Count: \",max)"
      ],
      "metadata": {
        "colab": {
          "base_uri": "https://localhost:8080/"
        },
        "id": "TAOd0BpYLbhF",
        "outputId": "b727b3ad-f97d-4ebb-9a47-c05ac5079b36"
      },
      "execution_count": 19,
      "outputs": [
        {
          "output_type": "stream",
          "name": "stdout",
          "text": [
            "Enter a string: hello\n",
            "Most occuring letter:  l\n",
            "Count:  2\n"
          ]
        }
      ]
    }
  ]
}